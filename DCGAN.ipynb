{
 "cells": [
  {
   "cell_type": "code",
   "execution_count": 2,
   "metadata": {},
   "outputs": [],
   "source": [
    "import torch\n",
    "import tqdm\n",
    "\n",
    "from matplotlib import pyplot as plt\n",
    "from statistics import mean\n",
    "from torch import nn, optim\n",
    "from torchvision.utils import save_image\n",
    "from torch.utils.data import Dataset, DataLoader, TensorDataset\n",
    "from torchvision import transforms, datasets"
   ]
  },
  {
   "cell_type": "markdown",
   "metadata": {},
   "source": [
    "# Generator\n",
    "* Output image size is 64 x 64.\n",
    "* 4 CNN layers.\n",
    "* In each CNN layers, Transpose Convolution is used."
   ]
  },
  {
   "cell_type": "markdown",
   "metadata": {},
   "source": [
    "## ConvTranspose2d parameters\n",
    "* in_channel\n",
    "* out_channel\n",
    "* kernel_size\n",
    "* stride\n",
    "* padding"
   ]
  },
  {
   "cell_type": "markdown",
   "metadata": {},
   "source": [
    "## How Transpose Convolution works.\n",
    "* https://lhopital.hatenablog.com/entry/2020/10/24/081133#%E3%82%B9%E3%83%88%E3%83%A9%E3%82%A4%E3%83%89-1\n",
    "* https://github.com/vdumoulin/conv_arithmetic"
   ]
  },
  {
   "cell_type": "code",
   "execution_count": 16,
   "metadata": {},
   "outputs": [],
   "source": [
    "class Generator(nn.Module):\n",
    "    def __init__(self, z_dim=20, image_size=64):\n",
    "        super(Generator, self).__init__()\n",
    "        \n",
    "        self.layer1 = nn.Sequential(\n",
    "            nn.ConvTranspose2d(z_dim, image_size * 8, kernel_size=4, stride=1),\n",
    "            nn.BatchNorm2d(image_size * 8),\n",
    "            nn.ReLU(inplace=True)\n",
    "        )\n",
    "\n",
    "        self.layer2 = nn.Sequential(\n",
    "            nn.ConvTranspose2d(image_size * 8, image_size * 4, kernel_size=4, stride=2, padding=1),\n",
    "            nn.BatchNorm2d(image_size * 4),\n",
    "            nn.ReLU(inplace=True)\n",
    "        )\n",
    "        \n",
    "        self.layer3 = nn.Sequential(\n",
    "            nn.ConvTranspose2d(image_size * 4, image_size * 2, kernel_size=4, stride=2, padding=1),\n",
    "            nn.BatchNorm2d(image_size * 2),\n",
    "            nn.ReLU(inplace=True)\n",
    "        )\n",
    "        \n",
    "        self.layer4 = nn.Sequential(\n",
    "            nn.ConvTranspose2d(image_size * 2, image_size, kernel_size=4, stride=2, padding=1),\n",
    "            nn.BatchNorm2d(image_size),\n",
    "            nn.ReLU(inplace=True)\n",
    "        )\n",
    "        \n",
    "        self.last = nn.Sequential(\n",
    "            nn.ConvTranspose2d(image_size, 1, kernel_size=4, stride=2, padding=1),\n",
    "            nn.Tanh()\n",
    "        )\n",
    "        \n",
    "    def forward(self, z):\n",
    "        out = self.layer1(z)\n",
    "        out = self.layer2(out)\n",
    "        out = self.layer3(out)\n",
    "        out = self.layer4(out)\n",
    "        out = self.last(out)\n",
    "        \n",
    "        return out"
   ]
  },
  {
   "cell_type": "markdown",
   "metadata": {},
   "source": [
    "# Generator Operation Check\n",
    "* input_z.shape: torch.Size([1, 20, 1, 1])\n",
    "* layer1_output.shape: torch.Size([1, 512, 4, 4])\n",
    "* layer2_output.shape: torch.Size([1, 256, 8, 8])\n",
    "* layer3_output.shape: torch.Size([1, 128, 16, 16])\n",
    "* layer4_output.shape: torch.Size([1, 64, 32, 32])\n",
    "* last_output.shape: torch.Size([1, 1, 64, 64])"
   ]
  },
  {
   "cell_type": "code",
   "execution_count": 17,
   "metadata": {},
   "outputs": [
    {
     "data": {
      "image/png": "[encoded data removed]",
      "text/plain": [
       "<Figure size 432x288 with 1 Axes>"
      ]
     },
     "metadata": {
      "needs_background": "light"
     },
     "output_type": "display_data"
    }
   ],
   "source": [
    "G = Generator(z_dim=20, image_size=64)\n",
    "input_z = torch.randn(1, 20)\n",
    "\n",
    "input_z = input_z.view(input_z.size(0), input_z.size(1), 1, 1)\n",
    "fake_images = G(input_z)\n",
    "\n",
    "img_transformed = fake_images[0][0].detach().numpy()\n",
    "\n",
    "plt.imshow(img_transformed, cmap='gray')\n",
    "plt.show()"
   ]
  },
  {
   "cell_type": "markdown",
   "metadata": {},
   "source": [
    "# Discriminator\n",
    "* Applys CNN layer 5 times, then applys sigmoid activation function.\n",
    "* input.shape: torch.Size([1, 1, 64, 64])\n",
    "* output.shape: torch.Size([1, 1, 1, 1])"
   ]
  },
  {
   "cell_type": "code",
   "execution_count": 33,
   "metadata": {},
   "outputs": [],
   "source": [
    "class Discriminator(nn.Module):\n",
    "    def __init__(self, z_dim=20, image_size=64):\n",
    "        super(Discriminator, self).__init__()\n",
    "        \n",
    "        self.layer1 = nn.Sequential(\n",
    "            nn.Conv2d(1, image_size, kernel_size=4, stride=2, padding=1),\n",
    "            nn.LeakyReLU(0.1, inplace=True)\n",
    "        )\n",
    "        \n",
    "        self.layer2 = nn.Sequential(\n",
    "            nn.Conv2d(image_size, image_size * 2, kernel_size=4, stride=2, padding=1),\n",
    "            nn.LeakyReLU(0.1, inplace=True)\n",
    "        )\n",
    "        \n",
    "        self.layer3 = nn.Sequential(\n",
    "            nn.Conv2d(image_size * 2, image_size * 4, kernel_size=4, stride=2, padding=1),\n",
    "            nn.LeakyReLU(0.1, inplace=True)\n",
    "        )\n",
    "        \n",
    "        self.layer4 = nn.Sequential(\n",
    "            nn.Conv2d(image_size * 4, image_size * 8, kernel_size=4, stride=2, padding=1),\n",
    "            nn.LeakyReLU(0.1, inplace=True)\n",
    "        )\n",
    "        \n",
    "        self.last = nn.Conv2d(image_size * 8, 1, kernel_size=4, stride=1)\n",
    "        \n",
    "    def forward(self, x):\n",
    "        out = self.layer1(x)\n",
    "        out = self.layer2(out)\n",
    "        out = self.layer3(out)\n",
    "        out = self.layer4(out)\n",
    "        out = nn.Sigmoid()(self.last(out))\n",
    "        \n",
    "        return out"
   ]
  },
  {
   "cell_type": "markdown",
   "metadata": {},
   "source": [
    "# Descriminator Operation Check"
   ]
  },
  {
   "cell_type": "code",
   "execution_count": 34,
   "metadata": {},
   "outputs": [
    {
     "name": "stdout",
     "output_type": "stream",
     "text": [
      "tensor([[[[0.5021]]]], grad_fn=<SigmoidBackward>)\n"
     ]
    }
   ],
   "source": [
    "D = Discriminator(z_dim=20, image_size=64)\n",
    "\n",
    "input_z = torch.randn(1, 20)\n",
    "input_z = input_z.view(input_z.size(0), input_z.size(1), 1, 1)\n",
    "fake_image = G(input_z)\n",
    "\n",
    "d_out = D(fake_image)\n",
    "\n",
    "#print(nn.Sigmoid()(d_out))\n",
    "print(d_out)"
   ]
  },
  {
   "cell_type": "code",
   "execution_count": null,
   "metadata": {},
   "outputs": [],
   "source": []
  }
 ],
 "metadata": {
  "kernelspec": {
   "display_name": "Python 3",
   "language": "python",
   "name": "python3"
  },
  "language_info": {
   "codemirror_mode": {
    "name": "ipython",
    "version": 3
   },
   "file_extension": ".py",
   "mimetype": "text/x-python",
   "name": "python",
   "nbconvert_exporter": "python",
   "pygments_lexer": "ipython3",
   "version": "3.6.9"
  }
 },
 "nbformat": 4,
 "nbformat_minor": 2
}
